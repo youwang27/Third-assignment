{
 "cells": [
  {
   "cell_type": "markdown",
   "metadata": {},
   "source": [
    "# Fertility & Parents' Wellbeing"
   ]
  },
  {
   "cell_type": "markdown",
   "metadata": {},
   "source": [
    "*You Wang (410272), Anouk van Schijndel (275623) & Hana Marie Smrčková (537009)*"
   ]
  },
  {
   "cell_type": "markdown",
   "metadata": {},
   "source": [
    "## Question"
   ]
  },
  {
   "cell_type": "markdown",
   "metadata": {},
   "source": [
    "What is the impact of fertility in the overall wellbeing of parents?"
   ]
  },
  {
   "cell_type": "markdown",
   "metadata": {},
   "source": [
    "### Motivation"
   ]
  },
  {
   "cell_type": "markdown",
   "metadata": {},
   "source": [
    "This study tries to estimate the impact of fertility on the overall wellbeing of parents. Knowledge of this relationship may be important e.g. for demographs because it can help to explain fertility trends. It is also interesting for policy makers who try to desing norms in order maximizes wellbeing of their citizens. To illustrate, if children turn to be significantly positive determinant of wellbeing and at the same time we see decrease in fertility, it might be an impuls to further search why people opt for less children while they desire more. In this case, some e.g. labour policy adjustment supporting part-time employment may help to solve the problem.  \n"
   ]
  },
  {
   "cell_type": "markdown",
   "metadata": {},
   "source": [
    "### Literature background"
   ]
  },
  {
   "cell_type": "markdown",
   "metadata": {},
   "source": [
    "There exists a large strand of literature on the impact of fertility on labor market outcomes of mothers. A very interesting and related paper studying the relationship between parental leave provisions and fertility and labor market outcomes for women, is the paper by <a href=\" http://www.jstor.org/stable/40506259\"> Lalive and Zweimüller (2009)</a> They studied 2 natural experiments in Austria, in which the maximum parental leave duration was doubles and then partially reduced. The results were substantial: fertility increased by 4.5 and 3 percentage point in the short and long run respectively. On the other hand, return to work reduced by 11 and 3 percentage points in the short and long run respectively. This implies that less women returned to work. However, there were no differences in employment and labor earnings in the long run. This indicates that even very generous parental leave provisions might not harm a women’s long run labor market prospects. \n",
    "\n",
    "There exists much less literature studying the relationship between fertility and health. Kruk (2010) finds evidence that having additional children has a negative impact on the mothers’ mental health and thus wellbeing. Since this was the only paper investigating this relationship, <a href=\" http://www.sciencedirect.com/science/article/pii/S0167629612000719\"> Cáceres-Delpiano and Simonsen (2012) </a> took a closer look at the relationship between fertility and health. In our study we depart from their estimation methodology. \n"
   ]
  },
  {
   "cell_type": "markdown",
   "metadata": {},
   "source": [
    "### Method"
   ]
  },
  {
   "cell_type": "markdown",
   "metadata": {},
   "source": [
    "Including the number of children as an independent variable might not be as straightforward as it may seem, due do endogeneity problems: the number of children in a family is not randomly distributed and therefore no causal relationship could be estimated based on this data. To control for this endogeneity, the authors used the occurrence of multiples (twins, triplets etc.) as an instrument for the number of children. We use the similar but simplyfied procedure. Since we have smaller dataset available, we do not estimate a regression for each family size but for the sample as a whole. In order to include the most observations as possible we also include male respondents and, to be sure, control for sex of the respondent. \n",
    "  \n",
    "We will use an IV regression. The first stage regression estimates the effect of multiple births on the number of children. This reduced form regiression tells us whehter multiple births are a valid instrument for number of children. It also shows what is the correlation between instrument and endogenous variable. If the correlation is low, it may cause large standard errors in the second stage and, thus, false insignificance of the instrumented variable (number of children in this case).   \n"
   ]
  },
  {
   "cell_type": "markdown",
   "metadata": {},
   "source": [
    "### Data"
   ]
  },
  {
   "cell_type": "markdown",
   "metadata": {},
   "source": [
    "We have collected the data from the Survey on Income and Living Conditions conducted in the Czech Republic in 2013. Originally, it consisted of 3290 observations. However, some observations had missing entry for income variable and were dropped and the final sample counts 3209 observations. \n",
    "\n",
    "The dependent variable is *wellbeing* measuring the life satisfaction on the scale from 0 (not satisfied at all) to 10 (completely satisfined). The main explanatory variable is *number of children* and its instrument *twins*. While *number of children* cardinal variable, *twins* is binary variable of value 1 if the subject is a parent of twins (we do not have any triplets or quadruplets in our sample) and 0 otherwise. Other explanatory variable of interest is interaction between gender and number of children *female_children*. Similarly to the number of children itself, *female_chidren* is instrumented by *female_twins*. Further, the set of control variables controls for sociodemographic characteristics and includes: *age, $age^2$, sex, health, single, divorced, widoved, educ_highschool, educ_uni, income*.  \n"
   ]
  },
  {
   "cell_type": "markdown",
   "metadata": {},
   "source": [
    "### Assumptions"
   ]
  },
  {
   "cell_type": "markdown",
   "metadata": {},
   "source": [
    "- There should be correlation between multiple births and family size.\n",
    "\n",
    "<a href=\" http://www.sciencedirect.com/science/article/pii/S0167629612000719\"> Cáceres-Delpiano and Simonsen (2012) </a> find that multiple births on average increase the number of surviving children for all subsamples. \n",
    "\n",
    "- There should be no correlation between the instrumental variable (multiple births (twins)) and the error term.\n",
    "\n",
    "The probability of having identical twins is similar among all age groups and countries. Therefore this could be considered as being randomly distributed. However, the probability of having non-identical twins might not be fully random, since there are 2 factors which affect this probability: receivement of fertility treatment and family history regarding twins. <a href=\" http://www.sciencedirect.com/science/article/pii/S0167629612000719\"> Cáceres-Delpiano and Simonsen (2012) </a> included additional control variables for the incidence of having multiples and find that the results are robust to this different specification of the model. \n",
    "\n",
    "- Monotonicity. \n",
    "\n",
    "It is a safe assumption that multiple births affect family size only in 1 way: it is highly unlikely that parent reduce their family size after having multiples.\n"
   ]
  },
  {
   "cell_type": "markdown",
   "metadata": {},
   "source": [
    "### Answer"
   ]
  },
  {
   "cell_type": "markdown",
   "metadata": {},
   "source": [
    "Generally, the estimate suggests that there is not significant impact of number of children on parental wellbeing $(p=0.234)$. However, we have also found, that this is true only for fathers because the interaction variable *female_children* is significant $(p=0.086)$ and positive. In other words, according to our results, number of children positively affect mothers'wellbeing. Namely one additional children increases mother's wellbeing almost by 0.87 point (on the 0-10 scale). \n",
    "\n",
    "It is noteworthy, that our results suggest the opposite relationship than those from Cáceres-Delpiano and Simonsen (2012). "
   ]
  },
  {
   "cell_type": "markdown",
   "metadata": {
    "collapsed": false
   },
   "source": [
    "## Analysis\n",
    "This 2SLS regression mainly follows from the [Pysal page](http://pysal.readthedocs.org/en/latest/library/spreg/twosls.html)."
   ]
  },
  {
   "cell_type": "markdown",
   "metadata": {},
   "source": [
    "### Importing libraries"
   ]
  },
  {
   "cell_type": "code",
   "execution_count": 114,
   "metadata": {
    "collapsed": false
   },
   "outputs": [],
   "source": [
    "import numpy as np\n",
    "import pysal\n",
    "from pysal.spreg.twosls import TSLS, BaseTSLS\n",
    "from pysal.spreg.ols import OLS\n",
    "from scipy import sparse as SP\n",
    "import pysal.spreg.diagnostics as diagnostics\n",
    "from matplotlib.pyplot import *\n",
    "%matplotlib inline\n",
    "import pandas as pd"
   ]
  },
  {
   "cell_type": "markdown",
   "metadata": {
    "collapsed": true
   },
   "source": [
    "### Importing data"
   ]
  },
  {
   "cell_type": "code",
   "execution_count": 66,
   "metadata": {
    "collapsed": false
   },
   "outputs": [],
   "source": [
    "db = pysal.open('NEWAssignment3.csv')"
   ]
  },
  {
   "cell_type": "code",
   "execution_count": 83,
   "metadata": {
    "collapsed": false,
    "scrolled": true
   },
   "outputs": [],
   "source": [
    "y = np.array(db.by_col(\"WELLBEING\")) #dependent variable\n",
    "X = [] #explanatory variable\n",
    "X.append(db.by_col(\"age\"))\n",
    "X.append(db.by_col(\"age_2\"))\n",
    "X.append(db.by_col(\"sex\"))\n",
    "X.append(db.by_col(\"income\"))\n",
    "X.append(db.by_col(\"single\"))\n",
    "X.append(db.by_col(\"divorced\"))\n",
    "X.append(db.by_col(\"widowed\"))\n",
    "X.append(db.by_col(\"educ_highschool\"))\n",
    "X.append(db.by_col(\"educ_uni\"))\n",
    "X.append(db.by_col(\"health\"))\n",
    "X = np.array(X).T\n",
    "yd = []\n",
    "yd.append(db.by_col(\"numberofchildren\"))\n",
    "yd.append(db.by_col(\"female_children\"))\n",
    "yd = np.array(yd).T #identifying endogenous variable\n",
    "q = []\n",
    "q.append(db.by_col(\"twins\"))\n",
    "q.append(db.by_col(\"female_twins\"))\n",
    "q = np.array(q).T #defining an instrument"
   ]
  },
  {
   "cell_type": "markdown",
   "metadata": {},
   "source": [
    "### Run the 2SLS regression"
   ]
  },
  {
   "cell_type": "code",
   "execution_count": 113,
   "metadata": {
    "collapsed": false,
    "scrolled": true
   },
   "outputs": [
    {
     "name": "stdout",
     "output_type": "stream",
     "text": [
      "[ 0.17284342 -0.00320737 -1.01919499 -0.46375119 -0.43043048 -0.57249735\n",
      "  0.94942791  1.71174413  2.30465441 -0.40184891  0.86704094]\n"
     ]
    }
   ],
   "source": [
    "reg = BaseTSLS(y, X, yd, q=q)\n",
    "print reg.betas"
   ]
  },
  {
   "cell_type": "code",
   "execution_count": 110,
   "metadata": {
    "collapsed": false
   },
   "outputs": [
    {
     "name": "stdout",
     "output_type": "stream",
     "text": [
      "\n"
     ]
    }
   ],
   "source": [
    "reg = BaseTSLS(y, X, yd, q=q)\n",
    "testresult = diagnostics.t_stat(reg, z_stat=True)\n",
    "print # Here we cannot find out how to print p-values"
   ]
  },
  {
   "cell_type": "markdown",
   "metadata": {},
   "source": [
    "## Verification\n",
    "In order to verify that our results were (technically) calculated correctly, we run the 2SLS estimation in STATA. The coefficients are similar. \n",
    "\n",
    "**Note: since we have not managed to get all results and especially model diagnistics using python, the STATA estimates cover these gaps and allow us to provide more complete answer to our research question.**"
   ]
  },
  {
   "cell_type": "markdown",
   "metadata": {
    "collapsed": false
   },
   "source": [
    "## Conclusion\n",
    "The data form the Czech Republic suggest that there is negative but insignificant effect of fertility on wellbeing of fathers. In contrast, number of children significantly increases wellbeing of mothers. This latter finding is in conflict with the evidence from background literature. One possible explanation is that in the recent years, twins (that we use as an instrument) are born more often to mothers that undergone artificial insemination. Consequently, those mothers are more keen to have children and thus their wellbeing is positively – rather than negatively – affected. To be sure, the other (likely) possibility is that the result is incorrect due to the small sample size or modelling method. "
   ]
  },
  {
   "cell_type": "code",
   "execution_count": null,
   "metadata": {
    "collapsed": true
   },
   "outputs": [],
   "source": []
  }
 ],
 "metadata": {
  "kernelspec": {
   "display_name": "Python 2",
   "language": "python",
   "name": "python2"
  },
  "language_info": {
   "codemirror_mode": {
    "name": "ipython",
    "version": 2
   },
   "file_extension": ".py",
   "mimetype": "text/x-python",
   "name": "python",
   "nbconvert_exporter": "python",
   "pygments_lexer": "ipython2",
   "version": "2.7.11"
  }
 },
 "nbformat": 4,
 "nbformat_minor": 0
}
